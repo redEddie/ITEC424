{
 "cells": [
  {
   "cell_type": "code",
   "execution_count": 2,
   "metadata": {},
   "outputs": [
    {
     "data": {
      "text/plain": [
       "['IMG_9726.jpg',\n",
       " 'IMG_9727.jpg',\n",
       " 'IMG_9728.jpg',\n",
       " 'IMG_9729.jpg',\n",
       " 'IMG_9730.jpg',\n",
       " 'IMG_9731.jpg',\n",
       " 'IMG_9732.jpg',\n",
       " 'IMG_9733.jpg',\n",
       " 'IMG_9734.jpg',\n",
       " 'IMG_9736.jpg']"
      ]
     },
     "execution_count": 2,
     "metadata": {},
     "output_type": "execute_result"
    }
   ],
   "source": [
    "import os\n",
    "\n",
    "os.listdir(\"./Images\")"
   ]
  },
  {
   "cell_type": "code",
   "execution_count": 13,
   "metadata": {},
   "outputs": [
    {
     "data": {
      "text/plain": [
       "(3024, 4032, 3)"
      ]
     },
     "execution_count": 13,
     "metadata": {},
     "output_type": "execute_result"
    }
   ],
   "source": [
    "import cv2\n",
    "\n",
    "img = cv2.imread(\"./Images/IMG_9736.jpg\")\n",
    "img.shape"
   ]
  },
  {
   "cell_type": "code",
   "execution_count": 2,
   "metadata": {},
   "outputs": [],
   "source": [
    "import os\n",
    "import cv2\n",
    "import numpy as np\n",
    "\n",
    "images = os.listdir(\"./Images\")\n",
    "\n",
    "checker = (5, 6)  # (rows, columns)\n",
    "criteria = (\n",
    "    cv2.TERM_CRITERIA_EPS + cv2.TERM_CRITERIA_MAX_ITER,\n",
    "    30,\n",
    "    0.001,\n",
    ")  # termination criteria\n",
    "objpoints = []\n",
    "imgpoints = []\n",
    "\n",
    "objp = np.zeros((1, checker[0] * checker[1], 3), np.float32)  # 3D points\n",
    "objp[0, :, :2] = np.mgrid[0 : checker[0], 0 : checker[1]].T.reshape(-1, 2)\n",
    "\n",
    "for i in range(len(images)):\n",
    "    img = cv2.imread(\"./Images/\" + images[i])\n",
    "    gray = cv2.cvtColor(img, cv2.COLOR_BGR2GRAY)\n",
    "    ret, corners = cv2.findChessboardCorners(gray, checker, None)  # find corners\n",
    "    if ret:\n",
    "        objpoints.append(objp)\n",
    "        corners2 = cv2.cornerSubPix(gray, corners, (11, 11), (-1, -1), criteria)\n",
    "        imgpoints.append(corners2)\n",
    "        img = cv2.drawChessboardCorners(img, checker, corners2, ret)\n",
    "        cv2.namedWindow(\"image\" + str(i), cv2.WINDOW_NORMAL)\n",
    "        cv2.resizeWindow(\"image\" + str(i), 800, 600)\n",
    "        cv2.imshow(\"image\" + str(i), img)\n",
    "\n",
    "cv2.waitKey(0)\n",
    "cv2.destroyAllWindows()\n",
    "\n",
    "# Calibration\n",
    "ret, mtx, dist, rvecs, tvecs = cv2.calibrateCamera(\n",
    "    objpoints, imgpoints, gray.shape[::-1], None, None\n",
    ")\n"
   ]
  },
  {
   "cell_type": "code",
   "execution_count": 3,
   "metadata": {},
   "outputs": [
    {
     "data": {
      "text/plain": [
       "1.7461936272520837"
      ]
     },
     "execution_count": 3,
     "metadata": {},
     "output_type": "execute_result"
    }
   ],
   "source": [
    "ret"
   ]
  },
  {
   "cell_type": "code",
   "execution_count": 4,
   "metadata": {},
   "outputs": [
    {
     "data": {
      "text/plain": [
       "array([[3.28261164e+03, 0.00000000e+00, 2.02403056e+03],\n",
       "       [0.00000000e+00, 3.28885353e+03, 1.45308413e+03],\n",
       "       [0.00000000e+00, 0.00000000e+00, 1.00000000e+00]])"
      ]
     },
     "execution_count": 4,
     "metadata": {},
     "output_type": "execute_result"
    }
   ],
   "source": [
    "mtx"
   ]
  },
  {
   "cell_type": "code",
   "execution_count": 5,
   "metadata": {},
   "outputs": [
    {
     "data": {
      "text/plain": [
       "array([[ 2.87579407e-01, -1.52709073e+00, -6.24107384e-03,\n",
       "         2.07482576e-03,  2.37278047e+00]])"
      ]
     },
     "execution_count": 5,
     "metadata": {},
     "output_type": "execute_result"
    }
   ],
   "source": [
    "dist"
   ]
  },
  {
   "cell_type": "code",
   "execution_count": 7,
   "metadata": {},
   "outputs": [
    {
     "data": {
      "text/plain": [
       "(array([[-0.00888653],\n",
       "        [-0.06024753],\n",
       "        [-1.58140871]]),\n",
       " array([[-0.41618971],\n",
       "        [ 0.33138209],\n",
       "        [-1.59353817]]),\n",
       " array([[-0.02663447],\n",
       "        [ 0.58502891],\n",
       "        [-1.34324473]]),\n",
       " array([[ 0.45208187],\n",
       "        [ 0.43119736],\n",
       "        [-1.48820138]]),\n",
       " array([[ 0.67303598],\n",
       "        [-0.18746837],\n",
       "        [-1.18617878]]),\n",
       " array([[ 0.43494683],\n",
       "        [-0.59004422],\n",
       "        [-1.45430323]]),\n",
       " array([[-0.19887921],\n",
       "        [-0.70318325],\n",
       "        [-1.38833249]]),\n",
       " array([[-0.52690737],\n",
       "        [-0.5878565 ],\n",
       "        [-1.44397516]]),\n",
       " array([[-0.74796833],\n",
       "        [-0.05533612],\n",
       "        [-1.63210284]]),\n",
       " array([[-0.75513286],\n",
       "        [-0.80388963],\n",
       "        [-1.45532522]]))"
      ]
     },
     "execution_count": 7,
     "metadata": {},
     "output_type": "execute_result"
    }
   ],
   "source": [
    "rvecs"
   ]
  },
  {
   "cell_type": "code",
   "execution_count": 8,
   "metadata": {},
   "outputs": [
    {
     "data": {
      "text/plain": [
       "(array([[-2.14112772],\n",
       "        [ 2.76476017],\n",
       "        [14.39944326]]),\n",
       " array([[-2.02351307],\n",
       "        [ 2.74080965],\n",
       "        [13.9465859 ]]),\n",
       " array([[-4.0319099 ],\n",
       "        [ 2.45320743],\n",
       "        [14.95647305]]),\n",
       " array([[-2.41338223],\n",
       "        [ 3.03255059],\n",
       "        [13.40904107]]),\n",
       " array([[-2.83069116],\n",
       "        [ 2.89173312],\n",
       "        [11.56103764]]),\n",
       " array([[-0.7050961 ],\n",
       "        [ 2.31830289],\n",
       "        [12.19947839]]),\n",
       " array([[-0.48553632],\n",
       "        [ 1.59285738],\n",
       "        [11.47892757]]),\n",
       " array([[-2.46372369],\n",
       "        [ 1.48497491],\n",
       "        [11.73454195]]),\n",
       " array([[-2.90682818],\n",
       "        [ 2.66973583],\n",
       "        [13.37969217]]),\n",
       " array([[-2.5354837 ],\n",
       "        [ 0.48231802],\n",
       "        [ 7.69380429]]))"
      ]
     },
     "execution_count": 8,
     "metadata": {},
     "output_type": "execute_result"
    }
   ],
   "source": [
    "tvecs"
   ]
  },
  {
   "cell_type": "code",
   "execution_count": 11,
   "metadata": {},
   "outputs": [
    {
     "data": {
      "text/plain": [
       "0.0040047862008"
      ]
     },
     "execution_count": 11,
     "metadata": {},
     "output_type": "execute_result"
    }
   ],
   "source": [
    "3.28261164e+03 * 1.22e-6"
   ]
  },
  {
   "cell_type": "code",
   "execution_count": 9,
   "metadata": {},
   "outputs": [
    {
     "data": {
      "text/plain": [
       "0.004012401306599999"
      ]
     },
     "execution_count": 9,
     "metadata": {},
     "output_type": "execute_result"
    }
   ],
   "source": [
    "3.28885353e+03 * 1.22e-6"
   ]
  },
  {
   "cell_type": "code",
   "execution_count": null,
   "metadata": {},
   "outputs": [],
   "source": []
  }
 ],
 "metadata": {
  "kernelspec": {
   "display_name": "cv",
   "language": "python",
   "name": "python3"
  },
  "language_info": {
   "codemirror_mode": {
    "name": "ipython",
    "version": 3
   },
   "file_extension": ".py",
   "mimetype": "text/x-python",
   "name": "python",
   "nbconvert_exporter": "python",
   "pygments_lexer": "ipython3",
   "version": "3.11.8"
  }
 },
 "nbformat": 4,
 "nbformat_minor": 2
}
