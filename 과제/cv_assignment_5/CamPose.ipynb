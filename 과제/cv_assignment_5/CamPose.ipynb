{
 "cells": [
  {
   "cell_type": "code",
   "execution_count": 3,
   "metadata": {},
   "outputs": [
    {
     "data": {
      "text/plain": [
       "['./CRVL\\\\rotation_1.txt',\n",
       " './CRVL\\\\rotation_2.txt',\n",
       " './CRVL\\\\rotation_3.txt',\n",
       " './CRVL\\\\rotation_4.txt',\n",
       " './CRVL\\\\rotation_5.txt']"
      ]
     },
     "execution_count": 3,
     "metadata": {},
     "output_type": "execute_result"
    }
   ],
   "source": [
    "import cv2 as cv\n",
    "import numpy as np\n",
    "import glob\n",
    "\n",
    "path_output = './CRVL'\n",
    "path_input =  './CRVL'\n",
    "path_extrinsic  = glob.glob(f'{path_input}/*.txt')\n",
    "size_camera = 0.15\n",
    "num_camera = len(path_extrinsic)\n",
    "\n",
    "path_extrinsic\n"
   ]
  },
  {
   "cell_type": "code",
   "execution_count": 4,
   "metadata": {},
   "outputs": [],
   "source": [
    "\n",
    "points = []\n",
    "for file_name in path_extrinsic :\n",
    "    file = open(file_name)\n",
    "    data = file.read().splitlines()\n",
    "    file.close()\n",
    "\n",
    "    RT = np.array([np.array(data[0].split(\" \"),dtype=np.float32),\n",
    "                   np.array(data[1].split(\" \"),dtype=np.float32),\n",
    "                   np.array(data[2].split(\" \"),dtype=np.float32),\n",
    "                   [0,0,0,1]])\n",
    "    points.append(np.matmul(np.linalg.inv(RT), np.array([0, 0, 0, 1])))\n",
    "    points.append(np.matmul(np.linalg.inv(RT), np.array([-size_camera,-size_camera, size_camera, 1])))\n",
    "    points.append(np.matmul(np.linalg.inv(RT), np.array([-size_camera, size_camera, size_camera, 1])))\n",
    "    points.append(np.matmul(np.linalg.inv(RT), np.array([size_camera, -size_camera, size_camera, 1])))\n",
    "    points.append(np.matmul(np.linalg.inv(RT), np.array([size_camera,  size_camera, size_camera, 1])))\n",
    "points = np.array(points)\n",
    "\n",
    "f = open(f'{path_output}/camera.obj','w')  \n",
    "f.write(f'####\\n# Object camera.obj\\n#\\n# Vertices: {num_camera*5}\\n# Faces: 0\\n#\\n####\\n')\n",
    "for i in range(num_camera*5):\n",
    "    f.write(f'vn 0.0000 0.0000 0.0000\\n')\n",
    "    f.write(f'v {points[i,0]} {points[i,1]} {points[i,2]}\\n')\n",
    "f.write(f'# {num_camera*5} vertices, 0 vertices normals\\n\\n')\n",
    "for i in range(num_camera):\n",
    "    f.write(f'l {5*i+1} {5*i+2}\\n')\n",
    "    f.write(f'l {5*i+1} {5*i+3}\\n')\n",
    "    f.write(f'l {5*i+1} {5*i+4}\\n')\n",
    "    f.write(f'l {5*i+1} {5*i+5}\\n')\n",
    "    f.write(f'l {5*i+2} {5*i+3}\\n')\n",
    "    f.write(f'l {5*i+3} {5*i+5}\\n')\n",
    "    f.write(f'l {5*i+5} {5*i+4}\\n')\n",
    "    f.write(f'l {5*i+4} {5*i+2}\\n')\n",
    "f.write(f'# 0 faces, 0 coords texture\\n\\n# End of File')\n",
    "f.close()\n"
   ]
  }
 ],
 "metadata": {
  "kernelspec": {
   "display_name": "cv",
   "language": "python",
   "name": "python3"
  },
  "language_info": {
   "codemirror_mode": {
    "name": "ipython",
    "version": 3
   },
   "file_extension": ".py",
   "mimetype": "text/x-python",
   "name": "python",
   "nbconvert_exporter": "python",
   "pygments_lexer": "ipython3",
   "version": "3.11.8"
  }
 },
 "nbformat": 4,
 "nbformat_minor": 2
}
